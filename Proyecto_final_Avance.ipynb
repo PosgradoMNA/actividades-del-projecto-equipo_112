{
  "nbformat": 4,
  "nbformat_minor": 0,
  "metadata": {
    "colab": {
      "provenance": [],
      "collapsed_sections": []
    },
    "kernelspec": {
      "name": "python3",
      "display_name": "Python 3"
    },
    "language_info": {
      "name": "python"
    }
  },
  "cells": [
    {
      "cell_type": "code",
      "execution_count": 3,
      "metadata": {
        "id": "bamyysQTeBh8"
      },
      "outputs": [],
      "source": [
        "#Diego Alonso Luna Ramírez – Matricula: A01793035\n",
        "#Josep Romagosa Llorden - Matricula: A01374637\n",
        "\n",
        "#Nombre de conjunto de datos:\n",
        "#Cáncer de Mamá\n",
        "\n",
        "#Organización que lo genero:\n",
        "#Thinkstock\n",
        "\n",
        "#Enlace de Internet donde se puedan descargar el base de datos en línea:\n",
        "#https://archive.ics.uci.edu/ml/datasets/breast+cancer+wisconsin+%28original%29\n",
        "\n",
        "#Describe el conjunto de datos. ¿Qué datos contiene?\n",
        "#Utilizaremos datos públicos creado por el Dr. William H. Wolberg, médico del hospital de la Universidad de Wisconsin en Madison, Wisconsin, Estados Unidos.\n",
        "#Cancer de Mama, número de muestras realizadas, grosor de aglomerado, tamaño y uniformidad, forma y uniformidad, adhesión, tamaño de célula, núcleos desnudos, cromatina blanda, nucleolos normales, mitosis, clase.\n",
        "#La primera columna nos indica el ID de cada muestra y la última denota la característica de resultado, es decir, si la muestra fue benigna o maligna, representadas por los valores 2 y 4 respectivamente.\n",
        "\n",
        "#¿Cuáles son algunas de las preguntas de investigación que podría responder con estos datos? Enumere al menos OCHO (no responda las preguntas).\n",
        "#¿Cuántas muestras benignas de Cáncer de Mamá hay por cada 10 personas en base a las muestras?\n",
        "#¿Cuántas muestras malignas de Cáncer de Mamá hay por cada 10 personas en base a las muestras?\n",
        "#¿De que forma, los resultados obtenidos aydarían a determinar detección de forma más efectiva?\n",
        "#¿Cuál es la comparativa numerica entre las muestras de Cáncer de Mamá benigna y maligna?\n",
        "#¿De qué forma puede ayudar este proyecto a encontrar opciones para un diagnóstico temprano?\n",
        "#¿En promedio, cuantos casos se detectan como positivos en cáncer de Mamá?\n",
        "#¿En promedio, cuantos casos se detectan como negativos en cáncer de Mamá?\n",
        "\n",
        "#¿Qué actor (empresa, sector de la sociedad, organismo descentralizado, gobierno, etc.) estaría interesado en las preguntas mencionadas que identificó?\n",
        "#*Universidades con carreras medicas enfocadas a especialidades como los oncólogos.\n",
        "#*Hospitales que se dediquen a la detección temprana, prevención y el estudio continuo del Cáncer de Mamá.\n",
        "\n"
      ]
    },
    {
      "cell_type": "code",
      "source": [],
      "metadata": {
        "id": "MKBk_SynedNy"
      },
      "execution_count": null,
      "outputs": []
    }
  ]
}